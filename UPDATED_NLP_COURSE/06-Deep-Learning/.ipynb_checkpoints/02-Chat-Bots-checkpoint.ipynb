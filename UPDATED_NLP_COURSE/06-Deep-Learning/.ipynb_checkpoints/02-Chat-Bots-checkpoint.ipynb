{
 "cells": [
  {
   "cell_type": "markdown",
   "metadata": {},
   "source": [
    "___\n",
    "\n",
    "<a href='http://www.pieriandata.com'> <img src='../Pierian_Data_Logo.png' /></a>\n",
    "___\n",
    "# Question and Answer Chat Bots"
   ]
  },
  {
   "cell_type": "markdown",
   "metadata": {},
   "source": [
    "----\n",
    "\n",
    "------"
   ]
  },
  {
   "cell_type": "markdown",
   "metadata": {},
   "source": [
    "## Loading the Data\n",
    "\n",
    "We will be working with the Babi Data Set from Facebook Research.\n",
    "\n",
    "Full Details: https://research.fb.com/downloads/babi/\n",
    "\n",
    "- Jason Weston, Antoine Bordes, Sumit Chopra, Tomas Mikolov, Alexander M. Rush,\n",
    "  \"Towards AI-Complete Question Answering: A Set of Prerequisite Toy Tasks\",\n",
    "  http://arxiv.org/abs/1502.05698\n"
   ]
  },
  {
   "cell_type": "code",
   "execution_count": 1,
   "metadata": {},
   "outputs": [],
   "source": [
    "import pickle\n",
    "import numpy as np"
   ]
  },
  {
   "cell_type": "code",
   "execution_count": 2,
   "metadata": {},
   "outputs": [],
   "source": [
    "with open(\"train_qa.txt\", \"rb\") as fp:   # Unpickling\n",
    "    train_data =  pickle.load(fp)"
   ]
  },
  {
   "cell_type": "code",
   "execution_count": 3,
   "metadata": {},
   "outputs": [],
   "source": [
    "with open(\"test_qa.txt\", \"rb\") as fp:   # Unpickling\n",
    "    test_data =  pickle.load(fp)"
   ]
  },
  {
   "cell_type": "markdown",
   "metadata": {},
   "source": [
    "----"
   ]
  },
  {
   "cell_type": "markdown",
   "metadata": {},
   "source": [
    "## Exploring the Format of the Data"
   ]
  },
  {
   "cell_type": "code",
   "execution_count": 4,
   "metadata": {},
   "outputs": [
    {
     "data": {
      "text/plain": [
       "list"
      ]
     },
     "execution_count": 4,
     "metadata": {},
     "output_type": "execute_result"
    }
   ],
   "source": [
    "type(test_data)"
   ]
  },
  {
   "cell_type": "code",
   "execution_count": 5,
   "metadata": {},
   "outputs": [
    {
     "data": {
      "text/plain": [
       "list"
      ]
     },
     "execution_count": 5,
     "metadata": {},
     "output_type": "execute_result"
    }
   ],
   "source": [
    "type(train_data)"
   ]
  },
  {
   "cell_type": "code",
   "execution_count": 6,
   "metadata": {},
   "outputs": [
    {
     "data": {
      "text/plain": [
       "1000"
      ]
     },
     "execution_count": 6,
     "metadata": {},
     "output_type": "execute_result"
    }
   ],
   "source": [
    "len(test_data)"
   ]
  },
  {
   "cell_type": "code",
   "execution_count": 7,
   "metadata": {},
   "outputs": [
    {
     "data": {
      "text/plain": [
       "10000"
      ]
     },
     "execution_count": 7,
     "metadata": {},
     "output_type": "execute_result"
    }
   ],
   "source": [
    "len(train_data)"
   ]
  },
  {
   "cell_type": "code",
   "execution_count": 8,
   "metadata": {},
   "outputs": [
    {
     "data": {
      "text/plain": [
       "(['Mary',\n",
       "  'moved',\n",
       "  'to',\n",
       "  'the',\n",
       "  'bathroom',\n",
       "  '.',\n",
       "  'Sandra',\n",
       "  'journeyed',\n",
       "  'to',\n",
       "  'the',\n",
       "  'bedroom',\n",
       "  '.'],\n",
       " ['Is', 'Sandra', 'in', 'the', 'hallway', '?'],\n",
       " 'no')"
      ]
     },
     "execution_count": 8,
     "metadata": {},
     "output_type": "execute_result"
    }
   ],
   "source": [
    "train_data[0]"
   ]
  },
  {
   "cell_type": "code",
   "execution_count": 9,
   "metadata": {},
   "outputs": [
    {
     "data": {
      "text/plain": [
       "'Mary moved to the bathroom . Sandra journeyed to the bedroom .'"
      ]
     },
     "execution_count": 9,
     "metadata": {},
     "output_type": "execute_result"
    }
   ],
   "source": [
    "' '.join(train_data[0][0])"
   ]
  },
  {
   "cell_type": "code",
   "execution_count": 10,
   "metadata": {},
   "outputs": [
    {
     "data": {
      "text/plain": [
       "'Is Sandra in the hallway ?'"
      ]
     },
     "execution_count": 10,
     "metadata": {},
     "output_type": "execute_result"
    }
   ],
   "source": [
    "' '.join(train_data[0][1])"
   ]
  },
  {
   "cell_type": "code",
   "execution_count": 11,
   "metadata": {},
   "outputs": [
    {
     "data": {
      "text/plain": [
       "'no'"
      ]
     },
     "execution_count": 11,
     "metadata": {},
     "output_type": "execute_result"
    }
   ],
   "source": [
    "train_data[0][2]"
   ]
  },
  {
   "cell_type": "markdown",
   "metadata": {},
   "source": [
    "-----\n",
    "\n",
    "## Setting up Vocabulary of All Words"
   ]
  },
  {
   "cell_type": "code",
   "execution_count": 12,
   "metadata": {},
   "outputs": [],
   "source": [
    "# Create a set that holds the vocab words\n",
    "vocab = set()"
   ]
  },
  {
   "cell_type": "code",
   "execution_count": 13,
   "metadata": {},
   "outputs": [],
   "source": [
    "all_data = test_data + train_data"
   ]
  },
  {
   "cell_type": "code",
   "execution_count": 14,
   "metadata": {},
   "outputs": [],
   "source": [
    "for story, question , answer in all_data:\n",
    "    # In case you don't know what a union of sets is:\n",
    "    # https://www.programiz.com/python-programming/methods/set/union\n",
    "    vocab = vocab.union(set(story))\n",
    "    vocab = vocab.union(set(question))"
   ]
  },
  {
   "cell_type": "code",
   "execution_count": 15,
   "metadata": {},
   "outputs": [],
   "source": [
    "vocab.add('no')\n",
    "vocab.add('yes')"
   ]
  },
  {
   "cell_type": "code",
   "execution_count": 16,
   "metadata": {},
   "outputs": [
    {
     "data": {
      "text/plain": [
       "{'.',\n",
       " '?',\n",
       " 'Daniel',\n",
       " 'Is',\n",
       " 'John',\n",
       " 'Mary',\n",
       " 'Sandra',\n",
       " 'apple',\n",
       " 'back',\n",
       " 'bathroom',\n",
       " 'bedroom',\n",
       " 'discarded',\n",
       " 'down',\n",
       " 'dropped',\n",
       " 'football',\n",
       " 'garden',\n",
       " 'got',\n",
       " 'grabbed',\n",
       " 'hallway',\n",
       " 'in',\n",
       " 'journeyed',\n",
       " 'kitchen',\n",
       " 'left',\n",
       " 'milk',\n",
       " 'moved',\n",
       " 'no',\n",
       " 'office',\n",
       " 'picked',\n",
       " 'put',\n",
       " 'the',\n",
       " 'there',\n",
       " 'to',\n",
       " 'took',\n",
       " 'travelled',\n",
       " 'up',\n",
       " 'went',\n",
       " 'yes'}"
      ]
     },
     "execution_count": 16,
     "metadata": {},
     "output_type": "execute_result"
    }
   ],
   "source": [
    "vocab"
   ]
  },
  {
   "cell_type": "code",
   "execution_count": 17,
   "metadata": {},
   "outputs": [],
   "source": [
    "vocab_len = len(vocab) + 1 #we add an extra space to hold a 0 for Keras's pad_sequences"
   ]
  },
  {
   "cell_type": "code",
   "execution_count": 18,
   "metadata": {},
   "outputs": [],
   "source": [
    "max_story_len = max([len(data[0]) for data in all_data])"
   ]
  },
  {
   "cell_type": "code",
   "execution_count": 19,
   "metadata": {},
   "outputs": [
    {
     "data": {
      "text/plain": [
       "156"
      ]
     },
     "execution_count": 19,
     "metadata": {},
     "output_type": "execute_result"
    }
   ],
   "source": [
    "max_story_len"
   ]
  },
  {
   "cell_type": "code",
   "execution_count": 20,
   "metadata": {},
   "outputs": [],
   "source": [
    "max_question_len = max([len(data[1]) for data in all_data])"
   ]
  },
  {
   "cell_type": "code",
   "execution_count": 21,
   "metadata": {},
   "outputs": [
    {
     "data": {
      "text/plain": [
       "6"
      ]
     },
     "execution_count": 21,
     "metadata": {},
     "output_type": "execute_result"
    }
   ],
   "source": [
    "max_question_len"
   ]
  },
  {
   "cell_type": "markdown",
   "metadata": {},
   "source": [
    "## Vectorizing the Data"
   ]
  },
  {
   "cell_type": "code",
   "execution_count": 22,
   "metadata": {},
   "outputs": [
    {
     "data": {
      "text/plain": [
       "{'.',\n",
       " '?',\n",
       " 'Daniel',\n",
       " 'Is',\n",
       " 'John',\n",
       " 'Mary',\n",
       " 'Sandra',\n",
       " 'apple',\n",
       " 'back',\n",
       " 'bathroom',\n",
       " 'bedroom',\n",
       " 'discarded',\n",
       " 'down',\n",
       " 'dropped',\n",
       " 'football',\n",
       " 'garden',\n",
       " 'got',\n",
       " 'grabbed',\n",
       " 'hallway',\n",
       " 'in',\n",
       " 'journeyed',\n",
       " 'kitchen',\n",
       " 'left',\n",
       " 'milk',\n",
       " 'moved',\n",
       " 'no',\n",
       " 'office',\n",
       " 'picked',\n",
       " 'put',\n",
       " 'the',\n",
       " 'there',\n",
       " 'to',\n",
       " 'took',\n",
       " 'travelled',\n",
       " 'up',\n",
       " 'went',\n",
       " 'yes'}"
      ]
     },
     "execution_count": 22,
     "metadata": {},
     "output_type": "execute_result"
    }
   ],
   "source": [
    "vocab"
   ]
  },
  {
   "cell_type": "code",
   "execution_count": 23,
   "metadata": {},
   "outputs": [],
   "source": [
    "# Reserve 0 for pad_sequences\n",
    "vocab_size = len(vocab) + 1"
   ]
  },
  {
   "cell_type": "markdown",
   "metadata": {},
   "source": [
    "-----------"
   ]
  },
  {
   "cell_type": "code",
   "execution_count": 24,
   "metadata": {},
   "outputs": [],
   "source": [
    "from keras.preprocessing.sequence import pad_sequences\n",
    "from keras.preprocessing.text import Tokenizer"
   ]
  },
  {
   "cell_type": "code",
   "execution_count": 25,
   "metadata": {},
   "outputs": [],
   "source": [
    "# integer encode sequences of words\n",
    "tokenizer = Tokenizer(filters=[])\n",
    "tokenizer.fit_on_texts(vocab)"
   ]
  },
  {
   "cell_type": "code",
   "execution_count": 26,
   "metadata": {},
   "outputs": [
    {
     "data": {
      "text/plain": [
       "{'john': 1,\n",
       " 'back': 2,\n",
       " 'dropped': 3,\n",
       " 'sandra': 4,\n",
       " 'is': 5,\n",
       " 'yes': 6,\n",
       " 'kitchen': 7,\n",
       " '?': 8,\n",
       " 'daniel': 9,\n",
       " '.': 10,\n",
       " 'picked': 11,\n",
       " 'moved': 12,\n",
       " 'in': 13,\n",
       " 'journeyed': 14,\n",
       " 'there': 15,\n",
       " 'put': 16,\n",
       " 'got': 17,\n",
       " 'the': 18,\n",
       " 'down': 19,\n",
       " 'garden': 20,\n",
       " 'discarded': 21,\n",
       " 'no': 22,\n",
       " 'left': 23,\n",
       " 'bathroom': 24,\n",
       " 'apple': 25,\n",
       " 'office': 26,\n",
       " 'bedroom': 27,\n",
       " 'football': 28,\n",
       " 'went': 29,\n",
       " 'mary': 30,\n",
       " 'travelled': 31,\n",
       " 'grabbed': 32,\n",
       " 'hallway': 33,\n",
       " 'took': 34,\n",
       " 'milk': 35,\n",
       " 'up': 36,\n",
       " 'to': 37}"
      ]
     },
     "execution_count": 26,
     "metadata": {},
     "output_type": "execute_result"
    }
   ],
   "source": [
    "tokenizer.word_index"
   ]
  },
  {
   "cell_type": "code",
   "execution_count": 27,
   "metadata": {},
   "outputs": [],
   "source": [
    "train_story_text = []\n",
    "train_question_text = []\n",
    "train_answers = []\n",
    "\n",
    "for story,question,answer in train_data:\n",
    "    train_story_text.append(story)\n",
    "    train_question_text.append(question)"
   ]
  },
  {
   "cell_type": "code",
   "execution_count": 28,
   "metadata": {},
   "outputs": [],
   "source": [
    "train_story_seq = tokenizer.texts_to_sequences(train_story_text)"
   ]
  },
  {
   "cell_type": "code",
   "execution_count": 29,
   "metadata": {},
   "outputs": [
    {
     "data": {
      "text/plain": [
       "10000"
      ]
     },
     "execution_count": 29,
     "metadata": {},
     "output_type": "execute_result"
    }
   ],
   "source": [
    "len(train_story_text)"
   ]
  },
  {
   "cell_type": "code",
   "execution_count": 30,
   "metadata": {},
   "outputs": [
    {
     "data": {
      "text/plain": [
       "10000"
      ]
     },
     "execution_count": 30,
     "metadata": {},
     "output_type": "execute_result"
    }
   ],
   "source": [
    "len(train_story_seq)"
   ]
  },
  {
   "cell_type": "code",
   "execution_count": 31,
   "metadata": {},
   "outputs": [],
   "source": [
    "# word_index = tokenizer.word_index"
   ]
  },
  {
   "cell_type": "markdown",
   "metadata": {},
   "source": [
    "### Functionalize Vectorization"
   ]
  },
  {
   "cell_type": "code",
   "execution_count": 32,
   "metadata": {},
   "outputs": [],
   "source": [
    "def vectorize_stories(data, word_index=tokenizer.word_index, max_story_len=max_story_len,max_question_len=max_question_len):\n",
    "    '''\n",
    "    INPUT: \n",
    "    \n",
    "    data: consisting of Stories,Queries,and Answers\n",
    "    word_index: word index dictionary from tokenizer\n",
    "    max_story_len: the length of the longest story (used for pad_sequences function)\n",
    "    max_question_len: length of the longest question (used for pad_sequences function)\n",
    "\n",
    "\n",
    "    OUTPUT:\n",
    "    \n",
    "    Vectorizes the stories,questions, and answers into padded sequences. We first loop for every story, query , and\n",
    "    answer in the data. Then we convert the raw words to an word index value. Then we append each set to their appropriate\n",
    "    output list. Then once we have converted the words to numbers, we pad the sequences so they are all of equal length.\n",
    "    \n",
    "    Returns this in the form of a tuple (X,Xq,Y) (padded based on max lengths)\n",
    "    '''\n",
    "    \n",
    "    \n",
    "    # X = STORIES\n",
    "    X = []\n",
    "    # Xq = QUERY/QUESTION\n",
    "    Xq = []\n",
    "    # Y = CORRECT ANSWER\n",
    "    Y = []\n",
    "    \n",
    "    \n",
    "    for story, query, answer in data:\n",
    "        \n",
    "        # Grab the word index for every word in story\n",
    "        x = [word_index[word.lower()] for word in story]\n",
    "        # Grab the word index for every word in query\n",
    "        xq = [word_index[word.lower()] for word in query]\n",
    "        \n",
    "        # Grab the Answers (either Yes/No so we don't need to use list comprehension here)\n",
    "        # Index 0 is reserved so we're going to use + 1\n",
    "        y = np.zeros(len(word_index) + 1)\n",
    "        \n",
    "        # Now that y is all zeros and we know its just Yes/No , we can use numpy logic to create this assignment\n",
    "        #\n",
    "        y[word_index[answer]] = 1\n",
    "        \n",
    "        # Append each set of story,query, and answer to their respective holding lists\n",
    "        X.append(x)\n",
    "        Xq.append(xq)\n",
    "        Y.append(y)\n",
    "        \n",
    "    # Finally, pad the sequences based on their max length so the RNN can be trained on uniformly long sequences.\n",
    "        \n",
    "    # RETURN TUPLE FOR UNPACKING\n",
    "    return (pad_sequences(X, maxlen=max_story_len),pad_sequences(Xq, maxlen=max_question_len), np.array(Y))"
   ]
  },
  {
   "cell_type": "code",
   "execution_count": 33,
   "metadata": {},
   "outputs": [],
   "source": [
    "inputs_train, queries_train, answers_train = vectorize_stories(train_data)"
   ]
  },
  {
   "cell_type": "code",
   "execution_count": 34,
   "metadata": {},
   "outputs": [],
   "source": [
    "inputs_test, queries_test, answers_test = vectorize_stories(test_data)"
   ]
  },
  {
   "cell_type": "code",
   "execution_count": 35,
   "metadata": {},
   "outputs": [
    {
     "data": {
      "text/plain": [
       "array([[ 0,  0,  0, ..., 18, 27, 10],\n",
       "       [ 0,  0,  0, ..., 18, 20, 10],\n",
       "       [ 0,  0,  0, ..., 18, 20, 10],\n",
       "       ...,\n",
       "       [ 0,  0,  0, ..., 18, 25, 10],\n",
       "       [ 0,  0,  0, ..., 18, 20, 10],\n",
       "       [ 0,  0,  0, ..., 25, 15, 10]])"
      ]
     },
     "execution_count": 35,
     "metadata": {},
     "output_type": "execute_result"
    }
   ],
   "source": [
    "inputs_test"
   ]
  },
  {
   "cell_type": "code",
   "execution_count": 36,
   "metadata": {},
   "outputs": [
    {
     "data": {
      "text/plain": [
       "array([[ 5,  1, 13, 18,  7,  8],\n",
       "       [ 5,  1, 13, 18,  7,  8],\n",
       "       [ 5,  1, 13, 18, 20,  8],\n",
       "       ...,\n",
       "       [ 5, 30, 13, 18, 27,  8],\n",
       "       [ 5,  4, 13, 18, 20,  8],\n",
       "       [ 5, 30, 13, 18, 20,  8]])"
      ]
     },
     "execution_count": 36,
     "metadata": {},
     "output_type": "execute_result"
    }
   ],
   "source": [
    "queries_test"
   ]
  },
  {
   "cell_type": "code",
   "execution_count": 37,
   "metadata": {},
   "outputs": [
    {
     "data": {
      "text/plain": [
       "array([[0., 0., 0., ..., 0., 0., 0.],\n",
       "       [0., 0., 0., ..., 0., 0., 0.],\n",
       "       [0., 0., 0., ..., 0., 0., 0.],\n",
       "       ...,\n",
       "       [0., 0., 0., ..., 0., 0., 0.],\n",
       "       [0., 0., 0., ..., 0., 0., 0.],\n",
       "       [0., 0., 0., ..., 0., 0., 0.]])"
      ]
     },
     "execution_count": 37,
     "metadata": {},
     "output_type": "execute_result"
    }
   ],
   "source": [
    "answers_test"
   ]
  },
  {
   "cell_type": "code",
   "execution_count": 38,
   "metadata": {},
   "outputs": [
    {
     "data": {
      "text/plain": [
       "array([  0.,   0.,   0.,   0.,   0.,   0., 497.,   0.,   0.,   0.,   0.,\n",
       "         0.,   0.,   0.,   0.,   0.,   0.,   0.,   0.,   0.,   0.,   0.,\n",
       "       503.,   0.,   0.,   0.,   0.,   0.,   0.,   0.,   0.,   0.,   0.,\n",
       "         0.,   0.,   0.,   0.,   0.])"
      ]
     },
     "execution_count": 38,
     "metadata": {},
     "output_type": "execute_result"
    }
   ],
   "source": [
    "sum(answers_test)"
   ]
  },
  {
   "cell_type": "code",
   "execution_count": 39,
   "metadata": {},
   "outputs": [
    {
     "data": {
      "text/plain": [
       "6"
      ]
     },
     "execution_count": 39,
     "metadata": {},
     "output_type": "execute_result"
    }
   ],
   "source": [
    "tokenizer.word_index['yes']"
   ]
  },
  {
   "cell_type": "code",
   "execution_count": 40,
   "metadata": {},
   "outputs": [
    {
     "data": {
      "text/plain": [
       "22"
      ]
     },
     "execution_count": 40,
     "metadata": {},
     "output_type": "execute_result"
    }
   ],
   "source": [
    "tokenizer.word_index['no']"
   ]
  },
  {
   "cell_type": "markdown",
   "metadata": {},
   "source": [
    "## Creating the Model"
   ]
  },
  {
   "cell_type": "code",
   "execution_count": 41,
   "metadata": {},
   "outputs": [],
   "source": [
    "from keras.models import Sequential, Model\n",
    "from keras.layers.embeddings import Embedding\n",
    "from keras.layers import Input, Activation, Dense, Permute, Dropout\n",
    "from keras.layers import add, dot, concatenate\n",
    "from keras.layers import LSTM"
   ]
  },
  {
   "cell_type": "markdown",
   "metadata": {},
   "source": [
    "### Placeholders for Inputs\n",
    "\n",
    "Recall we technically have two inputs, stories and questions. So we need to use placeholders. `Input()` is used to instantiate a Keras tensor.\n"
   ]
  },
  {
   "cell_type": "code",
   "execution_count": 42,
   "metadata": {},
   "outputs": [],
   "source": [
    "input_sequence = Input((max_story_len,))\n",
    "question = Input((max_question_len,))"
   ]
  },
  {
   "cell_type": "markdown",
   "metadata": {
    "collapsed": true
   },
   "source": [
    "### Building the Networks\n",
    "\n",
    "To understand why we chose this setup, make sure to read the paper we are using:\n",
    "\n",
    "* Sainbayar Sukhbaatar, Arthur Szlam, Jason Weston, Rob Fergus,\n",
    "  \"End-To-End Memory Networks\",\n",
    "  http://arxiv.org/abs/1503.08895"
   ]
  },
  {
   "cell_type": "markdown",
   "metadata": {},
   "source": [
    "## Encoders\n",
    "\n",
    "### Input Encoder m"
   ]
  },
  {
   "cell_type": "code",
   "execution_count": 43,
   "metadata": {},
   "outputs": [],
   "source": [
    "# Input gets embedded to a sequence of vectors\n",
    "input_encoder_m = Sequential()\n",
    "input_encoder_m.add(Embedding(input_dim=vocab_size,output_dim=64))\n",
    "input_encoder_m.add(Dropout(0.3))\n",
    "\n",
    "# This encoder will output:\n",
    "# (samples, story_maxlen, embedding_dim)"
   ]
  },
  {
   "cell_type": "markdown",
   "metadata": {},
   "source": [
    "### Input Encoder c"
   ]
  },
  {
   "cell_type": "code",
   "execution_count": 44,
   "metadata": {},
   "outputs": [],
   "source": [
    "# embed the input into a sequence of vectors of size query_maxlen\n",
    "input_encoder_c = Sequential()\n",
    "input_encoder_c.add(Embedding(input_dim=vocab_size,output_dim=max_question_len))\n",
    "input_encoder_c.add(Dropout(0.3))\n",
    "# output: (samples, story_maxlen, query_maxlen)"
   ]
  },
  {
   "cell_type": "markdown",
   "metadata": {},
   "source": [
    "### Question Encoder"
   ]
  },
  {
   "cell_type": "code",
   "execution_count": 45,
   "metadata": {},
   "outputs": [],
   "source": [
    "# embed the question into a sequence of vectors\n",
    "question_encoder = Sequential()\n",
    "question_encoder.add(Embedding(input_dim=vocab_size,\n",
    "                               output_dim=64,\n",
    "                               input_length=max_question_len))\n",
    "question_encoder.add(Dropout(0.3))\n",
    "# output: (samples, query_maxlen, embedding_dim)"
   ]
  },
  {
   "cell_type": "markdown",
   "metadata": {},
   "source": [
    "### Encode the Sequences"
   ]
  },
  {
   "cell_type": "code",
   "execution_count": 46,
   "metadata": {},
   "outputs": [],
   "source": [
    "# encode input sequence and questions (which are indices)\n",
    "# to sequences of dense vectors\n",
    "input_encoded_m = input_encoder_m(input_sequence)\n",
    "input_encoded_c = input_encoder_c(input_sequence)\n",
    "question_encoded = question_encoder(question)"
   ]
  },
  {
   "cell_type": "markdown",
   "metadata": {},
   "source": [
    "##### Use dot product to compute the match between first input vector seq and the query"
   ]
  },
  {
   "cell_type": "code",
   "execution_count": 47,
   "metadata": {},
   "outputs": [],
   "source": [
    "# shape: `(samples, story_maxlen, query_maxlen)`\n",
    "match = dot([input_encoded_m, question_encoded], axes=(2, 2))\n",
    "match = Activation('softmax')(match)"
   ]
  },
  {
   "cell_type": "markdown",
   "metadata": {},
   "source": [
    "#### Add this match matrix with the second input vector sequence"
   ]
  },
  {
   "cell_type": "code",
   "execution_count": 48,
   "metadata": {},
   "outputs": [],
   "source": [
    "# add the match matrix with the second input vector sequence\n",
    "response = add([match, input_encoded_c])  # (samples, story_maxlen, query_maxlen)\n",
    "response = Permute((2, 1))(response)  # (samples, query_maxlen, story_maxlen)"
   ]
  },
  {
   "cell_type": "markdown",
   "metadata": {},
   "source": [
    "#### Concatenate"
   ]
  },
  {
   "cell_type": "code",
   "execution_count": 49,
   "metadata": {},
   "outputs": [],
   "source": [
    "# concatenate the match matrix with the question vector sequence\n",
    "answer = concatenate([response, question_encoded])"
   ]
  },
  {
   "cell_type": "code",
   "execution_count": 50,
   "metadata": {},
   "outputs": [
    {
     "data": {
      "text/plain": [
       "<KerasTensor: shape=(None, 6, 220) dtype=float32 (created by layer 'concatenate')>"
      ]
     },
     "execution_count": 50,
     "metadata": {},
     "output_type": "execute_result"
    }
   ],
   "source": [
    "answer"
   ]
  },
  {
   "cell_type": "code",
   "execution_count": 51,
   "metadata": {},
   "outputs": [],
   "source": [
    "# Reduce with RNN (LSTM)\n",
    "answer = LSTM(32)(answer)  # (samples, 32)"
   ]
  },
  {
   "cell_type": "code",
   "execution_count": 52,
   "metadata": {},
   "outputs": [],
   "source": [
    "# Regularization with Dropout\n",
    "answer = Dropout(0.5)(answer)\n",
    "answer = Dense(vocab_size)(answer)  # (samples, vocab_size)"
   ]
  },
  {
   "cell_type": "code",
   "execution_count": 53,
   "metadata": {},
   "outputs": [],
   "source": [
    "# we output a probability distribution over the vocabulary\n",
    "answer = Activation('softmax')(answer)\n",
    "\n",
    "# build the final model\n",
    "model = Model([input_sequence, question], answer)\n",
    "model.compile(optimizer='rmsprop', loss='categorical_crossentropy',\n",
    "              metrics=['accuracy'])"
   ]
  },
  {
   "cell_type": "code",
   "execution_count": 54,
   "metadata": {},
   "outputs": [
    {
     "name": "stdout",
     "output_type": "stream",
     "text": [
      "Model: \"model\"\n",
      "__________________________________________________________________________________________________\n",
      "Layer (type)                    Output Shape         Param #     Connected to                     \n",
      "==================================================================================================\n",
      "input_1 (InputLayer)            [(None, 156)]        0                                            \n",
      "__________________________________________________________________________________________________\n",
      "input_2 (InputLayer)            [(None, 6)]          0                                            \n",
      "__________________________________________________________________________________________________\n",
      "sequential (Sequential)         (None, None, 64)     2432        input_1[0][0]                    \n",
      "__________________________________________________________________________________________________\n",
      "sequential_2 (Sequential)       (None, 6, 64)        2432        input_2[0][0]                    \n",
      "__________________________________________________________________________________________________\n",
      "dot (Dot)                       (None, 156, 6)       0           sequential[0][0]                 \n",
      "                                                                 sequential_2[0][0]               \n",
      "__________________________________________________________________________________________________\n",
      "activation (Activation)         (None, 156, 6)       0           dot[0][0]                        \n",
      "__________________________________________________________________________________________________\n",
      "sequential_1 (Sequential)       (None, None, 6)      228         input_1[0][0]                    \n",
      "__________________________________________________________________________________________________\n",
      "add (Add)                       (None, 156, 6)       0           activation[0][0]                 \n",
      "                                                                 sequential_1[0][0]               \n",
      "__________________________________________________________________________________________________\n",
      "permute (Permute)               (None, 6, 156)       0           add[0][0]                        \n",
      "__________________________________________________________________________________________________\n",
      "concatenate (Concatenate)       (None, 6, 220)       0           permute[0][0]                    \n",
      "                                                                 sequential_2[0][0]               \n",
      "__________________________________________________________________________________________________\n",
      "lstm (LSTM)                     (None, 32)           32384       concatenate[0][0]                \n",
      "__________________________________________________________________________________________________\n",
      "dropout_3 (Dropout)             (None, 32)           0           lstm[0][0]                       \n",
      "__________________________________________________________________________________________________\n",
      "dense (Dense)                   (None, 38)           1254        dropout_3[0][0]                  \n",
      "__________________________________________________________________________________________________\n",
      "activation_1 (Activation)       (None, 38)           0           dense[0][0]                      \n",
      "==================================================================================================\n",
      "Total params: 38,730\n",
      "Trainable params: 38,730\n",
      "Non-trainable params: 0\n",
      "__________________________________________________________________________________________________\n"
     ]
    }
   ],
   "source": [
    "model.summary()"
   ]
  },
  {
   "cell_type": "code",
   "execution_count": 55,
   "metadata": {},
   "outputs": [
    {
     "name": "stdout",
     "output_type": "stream",
     "text": [
      "Epoch 1/120\n",
      "313/313 [==============================] - 12s 24ms/step - loss: 1.1748 - accuracy: 0.4846 - val_loss: 0.6947 - val_accuracy: 0.5030\n",
      "Epoch 2/120\n",
      "313/313 [==============================] - 6s 19ms/step - loss: 0.7103 - accuracy: 0.5029 - val_loss: 0.6989 - val_accuracy: 0.4970\n",
      "Epoch 3/120\n",
      "313/313 [==============================] - 7s 22ms/step - loss: 0.6954 - accuracy: 0.5064 - val_loss: 0.6932 - val_accuracy: 0.5210\n",
      "Epoch 4/120\n",
      "313/313 [==============================] - 6s 20ms/step - loss: 0.6951 - accuracy: 0.5001 - val_loss: 0.6956 - val_accuracy: 0.4970\n",
      "Epoch 5/120\n",
      "313/313 [==============================] - 7s 21ms/step - loss: 0.6944 - accuracy: 0.5094 - val_loss: 0.6949 - val_accuracy: 0.4970\n",
      "Epoch 6/120\n",
      "313/313 [==============================] - 6s 20ms/step - loss: 0.6946 - accuracy: 0.5022 - val_loss: 0.6932 - val_accuracy: 0.4970\n",
      "Epoch 7/120\n",
      "313/313 [==============================] - 6s 19ms/step - loss: 0.6954 - accuracy: 0.4901 - val_loss: 0.6932 - val_accuracy: 0.5030\n",
      "Epoch 8/120\n",
      "313/313 [==============================] - 7s 23ms/step - loss: 0.6939 - accuracy: 0.5059 - val_loss: 0.6932 - val_accuracy: 0.4970\n",
      "Epoch 9/120\n",
      "313/313 [==============================] - 7s 22ms/step - loss: 0.6936 - accuracy: 0.5082 - val_loss: 0.6958 - val_accuracy: 0.4970\n",
      "Epoch 10/120\n",
      "313/313 [==============================] - 7s 22ms/step - loss: 0.6954 - accuracy: 0.4960 - val_loss: 0.6937 - val_accuracy: 0.5030\n",
      "Epoch 11/120\n",
      "313/313 [==============================] - 7s 22ms/step - loss: 0.6929 - accuracy: 0.5161 - val_loss: 0.6956 - val_accuracy: 0.4970\n",
      "Epoch 12/120\n",
      "313/313 [==============================] - 7s 22ms/step - loss: 0.6949 - accuracy: 0.4934 - val_loss: 0.6941 - val_accuracy: 0.4890\n",
      "Epoch 13/120\n",
      "313/313 [==============================] - 7s 22ms/step - loss: 0.6934 - accuracy: 0.4995 - val_loss: 0.6954 - val_accuracy: 0.4770\n",
      "Epoch 14/120\n",
      "313/313 [==============================] - 7s 22ms/step - loss: 0.6899 - accuracy: 0.5323 - val_loss: 0.6886 - val_accuracy: 0.5400\n",
      "Epoch 15/120\n",
      "313/313 [==============================] - 7s 22ms/step - loss: 0.6767 - accuracy: 0.5653 - val_loss: 0.6541 - val_accuracy: 0.6210\n",
      "Epoch 16/120\n",
      "313/313 [==============================] - 7s 22ms/step - loss: 0.6440 - accuracy: 0.6345 - val_loss: 0.6269 - val_accuracy: 0.6540\n",
      "Epoch 17/120\n",
      "313/313 [==============================] - 7s 22ms/step - loss: 0.6255 - accuracy: 0.6571 - val_loss: 0.6115 - val_accuracy: 0.68006256 - accuracy: \n",
      "Epoch 18/120\n",
      "313/313 [==============================] - 7s 24ms/step - loss: 0.6064 - accuracy: 0.6860 - val_loss: 0.5975 - val_accuracy: 0.6880\n",
      "Epoch 19/120\n",
      "313/313 [==============================] - 7s 23ms/step - loss: 0.5858 - accuracy: 0.7005 - val_loss: 0.5624 - val_accuracy: 0.7110\n",
      "Epoch 20/120\n",
      "313/313 [==============================] - 7s 22ms/step - loss: 0.5633 - accuracy: 0.7202 - val_loss: 0.5289 - val_accuracy: 0.7540\n",
      "Epoch 21/120\n",
      "313/313 [==============================] - 7s 22ms/step - loss: 0.5377 - accuracy: 0.7466 - val_loss: 0.5069 - val_accuracy: 0.7680\n",
      "Epoch 22/120\n",
      "313/313 [==============================] - 7s 22ms/step - loss: 0.5280 - accuracy: 0.7474 - val_loss: 0.4927 - val_accuracy: 0.7720\n",
      "Epoch 23/120\n",
      "313/313 [==============================] - 7s 22ms/step - loss: 0.5035 - accuracy: 0.7679 - val_loss: 0.4775 - val_accuracy: 0.7870\n",
      "Epoch 24/120\n",
      "313/313 [==============================] - 7s 23ms/step - loss: 0.4899 - accuracy: 0.7727 - val_loss: 0.4788 - val_accuracy: 0.7780\n",
      "Epoch 25/120\n",
      "313/313 [==============================] - 7s 22ms/step - loss: 0.4821 - accuracy: 0.7795 - val_loss: 0.4562 - val_accuracy: 0.7900\n",
      "Epoch 26/120\n",
      "313/313 [==============================] - 7s 22ms/step - loss: 0.4556 - accuracy: 0.7857 - val_loss: 0.4439 - val_accuracy: 0.7880\n",
      "Epoch 27/120\n",
      "313/313 [==============================] - 7s 22ms/step - loss: 0.4486 - accuracy: 0.8004 - val_loss: 0.4364 - val_accuracy: 0.7960\n",
      "Epoch 28/120\n",
      "313/313 [==============================] - 7s 22ms/step - loss: 0.4279 - accuracy: 0.8099 - val_loss: 0.4241 - val_accuracy: 0.8100\n",
      "Epoch 29/120\n",
      "313/313 [==============================] - 7s 22ms/step - loss: 0.4241 - accuracy: 0.8164 - val_loss: 0.4215 - val_accuracy: 0.7950\n",
      "Epoch 30/120\n",
      "313/313 [==============================] - 7s 22ms/step - loss: 0.4214 - accuracy: 0.8139 - val_loss: 0.4468 - val_accuracy: 0.7930\n",
      "Epoch 31/120\n",
      "313/313 [==============================] - 7s 22ms/step - loss: 0.4038 - accuracy: 0.8248 - val_loss: 0.4156 - val_accuracy: 0.8100\n",
      "Epoch 32/120\n",
      "313/313 [==============================] - 7s 21ms/step - loss: 0.4091 - accuracy: 0.8179 - val_loss: 0.4281 - val_accuracy: 0.7990\n",
      "Epoch 33/120\n",
      "313/313 [==============================] - 7s 22ms/step - loss: 0.4005 - accuracy: 0.8219 - val_loss: 0.4200 - val_accuracy: 0.8090\n",
      "Epoch 34/120\n",
      "313/313 [==============================] - 7s 22ms/step - loss: 0.3845 - accuracy: 0.8404 - val_loss: 0.4113 - val_accuracy: 0.8060\n",
      "Epoch 35/120\n",
      "313/313 [==============================] - 7s 23ms/step - loss: 0.3820 - accuracy: 0.8409 - val_loss: 0.4200 - val_accuracy: 0.8210\n",
      "Epoch 36/120\n",
      "313/313 [==============================] - 7s 22ms/step - loss: 0.3775 - accuracy: 0.8355 - val_loss: 0.4088 - val_accuracy: 0.8160\n",
      "Epoch 37/120\n",
      "313/313 [==============================] - 6s 18ms/step - loss: 0.3668 - accuracy: 0.8423 - val_loss: 0.3911 - val_accuracy: 0.8230\n",
      "Epoch 38/120\n",
      "313/313 [==============================] - 5s 17ms/step - loss: 0.3743 - accuracy: 0.8433 - val_loss: 0.3926 - val_accuracy: 0.8100\n",
      "Epoch 39/120\n",
      "313/313 [==============================] - 6s 18ms/step - loss: 0.3773 - accuracy: 0.8420 - val_loss: 0.3960 - val_accuracy: 0.8150\n",
      "Epoch 40/120\n",
      "313/313 [==============================] - 5s 17ms/step - loss: 0.3612 - accuracy: 0.8449 - val_loss: 0.3894 - val_accuracy: 0.8170\n",
      "Epoch 41/120\n",
      "313/313 [==============================] - 5s 17ms/step - loss: 0.3583 - accuracy: 0.8452 - val_loss: 0.3977 - val_accuracy: 0.8130\n",
      "Epoch 42/120\n",
      "313/313 [==============================] - 5s 17ms/step - loss: 0.3637 - accuracy: 0.8467 - val_loss: 0.4063 - val_accuracy: 0.8200\n",
      "Epoch 43/120\n",
      "313/313 [==============================] - 5s 17ms/step - loss: 0.3474 - accuracy: 0.8587 - val_loss: 0.4253 - val_accuracy: 0.8220\n",
      "Epoch 44/120\n",
      "313/313 [==============================] - 5s 17ms/step - loss: 0.3549 - accuracy: 0.8543 - val_loss: 0.4033 - val_accuracy: 0.8160\n",
      "Epoch 45/120\n",
      "313/313 [==============================] - 5s 17ms/step - loss: 0.3604 - accuracy: 0.8451 - val_loss: 0.4070 - val_accuracy: 0.8220\n",
      "Epoch 46/120\n",
      "313/313 [==============================] - 6s 18ms/step - loss: 0.3471 - accuracy: 0.8555 - val_loss: 0.4084 - val_accuracy: 0.8240\n",
      "Epoch 47/120\n",
      "313/313 [==============================] - 5s 18ms/step - loss: 0.3514 - accuracy: 0.8504 - val_loss: 0.3860 - val_accuracy: 0.8160\n",
      "Epoch 48/120\n",
      "313/313 [==============================] - 5s 17ms/step - loss: 0.3446 - accuracy: 0.8561 - val_loss: 0.3881 - val_accuracy: 0.8120\n",
      "Epoch 49/120\n",
      "313/313 [==============================] - 5s 17ms/step - loss: 0.3491 - accuracy: 0.8509 - val_loss: 0.4035 - val_accuracy: 0.8170\n",
      "Epoch 50/120\n",
      "313/313 [==============================] - 5s 17ms/step - loss: 0.3458 - accuracy: 0.8523 - val_loss: 0.3930 - val_accuracy: 0.8290\n",
      "Epoch 51/120\n",
      "313/313 [==============================] - 5s 17ms/step - loss: 0.3271 - accuracy: 0.8616 - val_loss: 0.3866 - val_accuracy: 0.8200\n",
      "Epoch 52/120\n",
      "313/313 [==============================] - 5s 17ms/step - loss: 0.3324 - accuracy: 0.8625 - val_loss: 0.3836 - val_accuracy: 0.8190\n",
      "Epoch 53/120\n",
      "313/313 [==============================] - 6s 19ms/step - loss: 0.3196 - accuracy: 0.8622 - val_loss: 0.3993 - val_accuracy: 0.8240\n",
      "Epoch 54/120\n",
      "313/313 [==============================] - 6s 21ms/step - loss: 0.3301 - accuracy: 0.8642 - val_loss: 0.4106 - val_accuracy: 0.8150\n",
      "Epoch 55/120\n",
      "313/313 [==============================] - 6s 20ms/step - loss: 0.3377 - accuracy: 0.8572 - val_loss: 0.3919 - val_accuracy: 0.8280\n",
      "Epoch 56/120\n",
      "313/313 [==============================] - 6s 19ms/step - loss: 0.3347 - accuracy: 0.8589 - val_loss: 0.3902 - val_accuracy: 0.8120\n",
      "Epoch 57/120\n"
     ]
    },
    {
     "name": "stdout",
     "output_type": "stream",
     "text": [
      "313/313 [==============================] - 5s 16ms/step - loss: 0.3225 - accuracy: 0.8655 - val_loss: 0.4017 - val_accuracy: 0.8220\n",
      "Epoch 58/120\n",
      "313/313 [==============================] - 5s 16ms/step - loss: 0.3167 - accuracy: 0.8677 - val_loss: 0.3968 - val_accuracy: 0.8290\n",
      "Epoch 59/120\n",
      "313/313 [==============================] - 5s 17ms/step - loss: 0.3164 - accuracy: 0.8633 - val_loss: 0.4106 - val_accuracy: 0.8260\n",
      "Epoch 60/120\n",
      "313/313 [==============================] - 5s 16ms/step - loss: 0.3270 - accuracy: 0.8626 - val_loss: 0.3865 - val_accuracy: 0.8210\n",
      "Epoch 61/120\n",
      "313/313 [==============================] - 5s 16ms/step - loss: 0.3140 - accuracy: 0.8669 - val_loss: 0.4023 - val_accuracy: 0.8100\n",
      "Epoch 62/120\n",
      "313/313 [==============================] - 5s 16ms/step - loss: 0.3028 - accuracy: 0.8727 - val_loss: 0.3985 - val_accuracy: 0.8200\n",
      "Epoch 63/120\n",
      "313/313 [==============================] - 5s 16ms/step - loss: 0.3225 - accuracy: 0.8647 - val_loss: 0.3846 - val_accuracy: 0.8240\n",
      "Epoch 64/120\n",
      "313/313 [==============================] - 5s 16ms/step - loss: 0.3084 - accuracy: 0.8716 - val_loss: 0.3943 - val_accuracy: 0.8240\n",
      "Epoch 65/120\n",
      "313/313 [==============================] - 5s 16ms/step - loss: 0.3217 - accuracy: 0.8650 - val_loss: 0.4050 - val_accuracy: 0.8260\n",
      "Epoch 66/120\n",
      "313/313 [==============================] - 5s 15ms/step - loss: 0.3058 - accuracy: 0.8738 - val_loss: 0.3964 - val_accuracy: 0.8230\n",
      "Epoch 67/120\n",
      "313/313 [==============================] - 5s 16ms/step - loss: 0.3071 - accuracy: 0.8662 - val_loss: 0.4250 - val_accuracy: 0.8170\n",
      "Epoch 68/120\n",
      "313/313 [==============================] - 5s 15ms/step - loss: 0.3031 - accuracy: 0.8732 - val_loss: 0.4078 - val_accuracy: 0.8160\n",
      "Epoch 69/120\n",
      "313/313 [==============================] - 5s 15ms/step - loss: 0.2965 - accuracy: 0.8783 - val_loss: 0.4017 - val_accuracy: 0.8150\n",
      "Epoch 70/120\n",
      "313/313 [==============================] - 5s 16ms/step - loss: 0.3013 - accuracy: 0.8764 - val_loss: 0.4425 - val_accuracy: 0.8130\n",
      "Epoch 71/120\n",
      "313/313 [==============================] - 5s 16ms/step - loss: 0.3141 - accuracy: 0.8714 - val_loss: 0.4478 - val_accuracy: 0.8230\n",
      "Epoch 72/120\n",
      "313/313 [==============================] - 5s 15ms/step - loss: 0.3140 - accuracy: 0.8670 - val_loss: 0.4215 - val_accuracy: 0.8210\n",
      "Epoch 73/120\n",
      "313/313 [==============================] - 5s 15ms/step - loss: 0.2977 - accuracy: 0.8776 - val_loss: 0.4185 - val_accuracy: 0.8130\n",
      "Epoch 74/120\n",
      "313/313 [==============================] - 5s 15ms/step - loss: 0.2970 - accuracy: 0.8735 - val_loss: 0.4120 - val_accuracy: 0.8220\n",
      "Epoch 75/120\n",
      "313/313 [==============================] - 5s 16ms/step - loss: 0.2922 - accuracy: 0.8799 - val_loss: 0.4093 - val_accuracy: 0.8200\n",
      "Epoch 76/120\n",
      "313/313 [==============================] - 5s 16ms/step - loss: 0.2941 - accuracy: 0.8785 - val_loss: 0.4059 - val_accuracy: 0.8240\n",
      "Epoch 77/120\n",
      "313/313 [==============================] - 5s 15ms/step - loss: 0.2825 - accuracy: 0.8818 - val_loss: 0.3990 - val_accuracy: 0.8200\n",
      "Epoch 78/120\n",
      "313/313 [==============================] - 5s 16ms/step - loss: 0.2923 - accuracy: 0.8754 - val_loss: 0.4264 - val_accuracy: 0.8210\n",
      "Epoch 79/120\n",
      "313/313 [==============================] - 5s 16ms/step - loss: 0.2763 - accuracy: 0.8876 - val_loss: 0.4137 - val_accuracy: 0.8230\n",
      "Epoch 80/120\n",
      "313/313 [==============================] - 5s 16ms/step - loss: 0.2874 - accuracy: 0.8808 - val_loss: 0.4365 - val_accuracy: 0.8180\n",
      "Epoch 81/120\n",
      "313/313 [==============================] - 5s 16ms/step - loss: 0.2717 - accuracy: 0.8900 - val_loss: 0.4242 - val_accuracy: 0.8220\n",
      "Epoch 82/120\n",
      "313/313 [==============================] - 5s 16ms/step - loss: 0.2958 - accuracy: 0.8790 - val_loss: 0.4249 - val_accuracy: 0.8210\n",
      "Epoch 83/120\n",
      "313/313 [==============================] - 5s 16ms/step - loss: 0.2883 - accuracy: 0.8748 - val_loss: 0.4207 - val_accuracy: 0.8270\n",
      "Epoch 84/120\n",
      "313/313 [==============================] - 5s 15ms/step - loss: 0.2820 - accuracy: 0.8817 - val_loss: 0.4369 - val_accuracy: 0.8120\n",
      "Epoch 85/120\n",
      "313/313 [==============================] - 5s 15ms/step - loss: 0.2766 - accuracy: 0.8871 - val_loss: 0.4455 - val_accuracy: 0.8070\n",
      "Epoch 86/120\n",
      "313/313 [==============================] - 5s 15ms/step - loss: 0.2897 - accuracy: 0.8766 - val_loss: 0.4282 - val_accuracy: 0.8240\n",
      "Epoch 87/120\n",
      "313/313 [==============================] - 5s 16ms/step - loss: 0.2731 - accuracy: 0.8843 - val_loss: 0.4418 - val_accuracy: 0.8220\n",
      "Epoch 88/120\n",
      "313/313 [==============================] - 5s 16ms/step - loss: 0.2704 - accuracy: 0.8879 - val_loss: 0.4555 - val_accuracy: 0.8090\n",
      "Epoch 89/120\n",
      "313/313 [==============================] - 5s 15ms/step - loss: 0.2831 - accuracy: 0.8856 - val_loss: 0.4368 - val_accuracy: 0.8220\n",
      "Epoch 90/120\n",
      "313/313 [==============================] - 5s 16ms/step - loss: 0.2624 - accuracy: 0.8956 - val_loss: 0.4457 - val_accuracy: 0.8170\n",
      "Epoch 91/120\n",
      "313/313 [==============================] - 5s 16ms/step - loss: 0.2741 - accuracy: 0.8873 - val_loss: 0.4498 - val_accuracy: 0.8210\n",
      "Epoch 92/120\n",
      "313/313 [==============================] - 5s 16ms/step - loss: 0.2689 - accuracy: 0.8863 - val_loss: 0.4509 - val_accuracy: 0.8220\n",
      "Epoch 93/120\n",
      "313/313 [==============================] - 5s 16ms/step - loss: 0.2685 - accuracy: 0.8880 - val_loss: 0.4345 - val_accuracy: 0.8210\n",
      "Epoch 94/120\n",
      "313/313 [==============================] - 5s 16ms/step - loss: 0.2694 - accuracy: 0.8871 - val_loss: 0.4510 - val_accuracy: 0.8110\n",
      "Epoch 95/120\n",
      "313/313 [==============================] - 5s 16ms/step - loss: 0.2559 - accuracy: 0.8960 - val_loss: 0.4581 - val_accuracy: 0.8280\n",
      "Epoch 96/120\n",
      "313/313 [==============================] - 5s 15ms/step - loss: 0.2684 - accuracy: 0.8884 - val_loss: 0.4574 - val_accuracy: 0.8220\n",
      "Epoch 97/120\n",
      "313/313 [==============================] - 5s 16ms/step - loss: 0.2649 - accuracy: 0.8908 - val_loss: 0.4546 - val_accuracy: 0.8140\n",
      "Epoch 98/120\n",
      "313/313 [==============================] - 5s 16ms/step - loss: 0.2651 - accuracy: 0.8906 - val_loss: 0.4603 - val_accuracy: 0.8220\n",
      "Epoch 99/120\n",
      "313/313 [==============================] - 5s 16ms/step - loss: 0.2505 - accuracy: 0.8995 - val_loss: 0.4694 - val_accuracy: 0.8160\n",
      "Epoch 100/120\n",
      "313/313 [==============================] - 5s 16ms/step - loss: 0.2595 - accuracy: 0.8941 - val_loss: 0.4897 - val_accuracy: 0.8030\n",
      "Epoch 101/120\n",
      "313/313 [==============================] - 5s 16ms/step - loss: 0.2403 - accuracy: 0.9049 - val_loss: 0.4624 - val_accuracy: 0.8170\n",
      "Epoch 102/120\n",
      "313/313 [==============================] - 5s 16ms/step - loss: 0.2585 - accuracy: 0.8944 - val_loss: 0.5001 - val_accuracy: 0.8200\n",
      "Epoch 103/120\n",
      "313/313 [==============================] - 6s 19ms/step - loss: 0.2504 - accuracy: 0.8967 - val_loss: 0.4696 - val_accuracy: 0.8280\n",
      "Epoch 104/120\n",
      "313/313 [==============================] - 5s 17ms/step - loss: 0.2684 - accuracy: 0.8937 - val_loss: 0.4675 - val_accuracy: 0.8280\n",
      "Epoch 105/120\n",
      "313/313 [==============================] - 5s 16ms/step - loss: 0.2525 - accuracy: 0.8970 - val_loss: 0.4856 - val_accuracy: 0.8230\n",
      "Epoch 106/120\n",
      "313/313 [==============================] - 5s 16ms/step - loss: 0.2590 - accuracy: 0.8933 - val_loss: 0.4866 - val_accuracy: 0.8110\n",
      "Epoch 107/120\n",
      "313/313 [==============================] - 5s 16ms/step - loss: 0.2488 - accuracy: 0.8983 - val_loss: 0.4877 - val_accuracy: 0.8270\n",
      "Epoch 108/120\n",
      "313/313 [==============================] - 5s 16ms/step - loss: 0.2366 - accuracy: 0.9027 - val_loss: 0.4894 - val_accuracy: 0.8130\n",
      "Epoch 109/120\n",
      "313/313 [==============================] - 5s 16ms/step - loss: 0.2413 - accuracy: 0.8990 - val_loss: 0.4941 - val_accuracy: 0.8220\n",
      "Epoch 110/120\n",
      "313/313 [==============================] - 5s 16ms/step - loss: 0.2449 - accuracy: 0.9021 - val_loss: 0.4858 - val_accuracy: 0.8230\n",
      "Epoch 111/120\n",
      "313/313 [==============================] - 5s 16ms/step - loss: 0.2519 - accuracy: 0.8977 - val_loss: 0.4825 - val_accuracy: 0.8220\n",
      "Epoch 112/120\n",
      "313/313 [==============================] - 5s 16ms/step - loss: 0.2421 - accuracy: 0.9027 - val_loss: 0.4915 - val_accuracy: 0.8060\n",
      "Epoch 113/120\n"
     ]
    },
    {
     "name": "stdout",
     "output_type": "stream",
     "text": [
      "313/313 [==============================] - 5s 17ms/step - loss: 0.2372 - accuracy: 0.9078 - val_loss: 0.4623 - val_accuracy: 0.8230\n",
      "Epoch 114/120\n",
      "313/313 [==============================] - 5s 16ms/step - loss: 0.2394 - accuracy: 0.9035 - val_loss: 0.4828 - val_accuracy: 0.8190\n",
      "Epoch 115/120\n",
      "313/313 [==============================] - 5s 16ms/step - loss: 0.2355 - accuracy: 0.9051 - val_loss: 0.4784 - val_accuracy: 0.8180\n",
      "Epoch 116/120\n",
      "313/313 [==============================] - 5s 16ms/step - loss: 0.2297 - accuracy: 0.9114 - val_loss: 0.5029 - val_accuracy: 0.8140\n",
      "Epoch 117/120\n",
      "313/313 [==============================] - 5s 16ms/step - loss: 0.2334 - accuracy: 0.9068 - val_loss: 0.4887 - val_accuracy: 0.8230\n",
      "Epoch 118/120\n",
      "313/313 [==============================] - 5s 16ms/step - loss: 0.2325 - accuracy: 0.9065 - val_loss: 0.4895 - val_accuracy: 0.8180\n",
      "Epoch 119/120\n",
      "313/313 [==============================] - 5s 16ms/step - loss: 0.2385 - accuracy: 0.9094 - val_loss: 0.4753 - val_accuracy: 0.8300\n",
      "Epoch 120/120\n",
      "313/313 [==============================] - 5s 15ms/step - loss: 0.2280 - accuracy: 0.9073 - val_loss: 0.4960 - val_accuracy: 0.8170\n"
     ]
    }
   ],
   "source": [
    "# train\n",
    "history = model.fit([inputs_train, queries_train], answers_train,batch_size=32,epochs=120,validation_data=([inputs_test, queries_test], answers_test))"
   ]
  },
  {
   "cell_type": "markdown",
   "metadata": {},
   "source": [
    "### Saving the Model"
   ]
  },
  {
   "cell_type": "code",
   "execution_count": 56,
   "metadata": {},
   "outputs": [],
   "source": [
    "filename = 'chatbot_120_epochs.h5'\n",
    "model.save(filename)"
   ]
  },
  {
   "cell_type": "markdown",
   "metadata": {},
   "source": [
    "## Evaluating the Model\n",
    "\n",
    "### Plotting Out Training History"
   ]
  },
  {
   "cell_type": "code",
   "execution_count": 59,
   "metadata": {},
   "outputs": [
    {
     "name": "stdout",
     "output_type": "stream",
     "text": [
      "dict_keys(['loss', 'accuracy', 'val_loss', 'val_accuracy'])\n"
     ]
    },
    {
     "data": {
      "image/png": "[encoded data removed]",
      "text/plain": [
       "<Figure size 432x288 with 1 Axes>"
      ]
     },
     "metadata": {
      "needs_background": "light"
     },
     "output_type": "display_data"
    }
   ],
   "source": [
    "import matplotlib.pyplot as plt\n",
    "%matplotlib inline\n",
    "print(history.history.keys())\n",
    "# summarize history for accuracy\n",
    "plt.plot(history.history['accuracy'])\n",
    "plt.plot(history.history['val_accuracy'])\n",
    "plt.title('model accuracy')\n",
    "plt.ylabel('accuracy')\n",
    "plt.xlabel('epoch')\n",
    "plt.legend(['train', 'test'], loc='upper left')\n",
    "plt.show()"
   ]
  },
  {
   "cell_type": "markdown",
   "metadata": {},
   "source": [
    "### Evaluating on Given Test Set"
   ]
  },
  {
   "cell_type": "code",
   "execution_count": 60,
   "metadata": {},
   "outputs": [],
   "source": [
    "model.load_weights(filename)\n",
    "pred_results = model.predict(([inputs_test, queries_test]))"
   ]
  },
  {
   "cell_type": "code",
   "execution_count": 61,
   "metadata": {},
   "outputs": [
    {
     "data": {
      "text/plain": [
       "['Mary',\n",
       " 'got',\n",
       " 'the',\n",
       " 'milk',\n",
       " 'there',\n",
       " '.',\n",
       " 'John',\n",
       " 'moved',\n",
       " 'to',\n",
       " 'the',\n",
       " 'bedroom',\n",
       " '.']"
      ]
     },
     "execution_count": 61,
     "metadata": {},
     "output_type": "execute_result"
    }
   ],
   "source": [
    "test_data[0][0]"
   ]
  },
  {
   "cell_type": "code",
   "execution_count": 62,
   "metadata": {},
   "outputs": [
    {
     "name": "stdout",
     "output_type": "stream",
     "text": [
      "Mary got the milk there . John moved to the bedroom .\n"
     ]
    }
   ],
   "source": [
    "story =' '.join(word for word in test_data[0][0])\n",
    "print(story)"
   ]
  },
  {
   "cell_type": "code",
   "execution_count": 63,
   "metadata": {},
   "outputs": [
    {
     "name": "stdout",
     "output_type": "stream",
     "text": [
      "Is John in the kitchen ?\n"
     ]
    }
   ],
   "source": [
    "query = ' '.join(word for word in test_data[0][1])\n",
    "print(query)"
   ]
  },
  {
   "cell_type": "code",
   "execution_count": 64,
   "metadata": {},
   "outputs": [
    {
     "name": "stdout",
     "output_type": "stream",
     "text": [
      "True Test Answer from Data is: no\n"
     ]
    }
   ],
   "source": [
    "print(\"True Test Answer from Data is:\",test_data[0][2])"
   ]
  },
  {
   "cell_type": "code",
   "execution_count": 65,
   "metadata": {},
   "outputs": [
    {
     "name": "stdout",
     "output_type": "stream",
     "text": [
      "Predicted answer is:  no\n",
      "Probability of certainty was:  0.9996847\n"
     ]
    }
   ],
   "source": [
    "#Generate prediction from model\n",
    "val_max = np.argmax(pred_results[0])\n",
    "\n",
    "for key, val in tokenizer.word_index.items():\n",
    "    if val == val_max:\n",
    "        k = key\n",
    "\n",
    "print(\"Predicted answer is: \", k)\n",
    "print(\"Probability of certainty was: \", pred_results[0][val_max])"
   ]
  },
  {
   "cell_type": "markdown",
   "metadata": {},
   "source": [
    "## Writing Your Own Stories and Questions\n",
    "\n",
    "Remember you can only use words from the existing vocab"
   ]
  },
  {
   "cell_type": "code",
   "execution_count": 66,
   "metadata": {},
   "outputs": [
    {
     "data": {
      "text/plain": [
       "{'.',\n",
       " '?',\n",
       " 'Daniel',\n",
       " 'Is',\n",
       " 'John',\n",
       " 'Mary',\n",
       " 'Sandra',\n",
       " 'apple',\n",
       " 'back',\n",
       " 'bathroom',\n",
       " 'bedroom',\n",
       " 'discarded',\n",
       " 'down',\n",
       " 'dropped',\n",
       " 'football',\n",
       " 'garden',\n",
       " 'got',\n",
       " 'grabbed',\n",
       " 'hallway',\n",
       " 'in',\n",
       " 'journeyed',\n",
       " 'kitchen',\n",
       " 'left',\n",
       " 'milk',\n",
       " 'moved',\n",
       " 'no',\n",
       " 'office',\n",
       " 'picked',\n",
       " 'put',\n",
       " 'the',\n",
       " 'there',\n",
       " 'to',\n",
       " 'took',\n",
       " 'travelled',\n",
       " 'up',\n",
       " 'went',\n",
       " 'yes'}"
      ]
     },
     "execution_count": 66,
     "metadata": {},
     "output_type": "execute_result"
    }
   ],
   "source": [
    "vocab"
   ]
  },
  {
   "cell_type": "code",
   "execution_count": 67,
   "metadata": {},
   "outputs": [
    {
     "data": {
      "text/plain": [
       "['John',\n",
       " 'left',\n",
       " 'the',\n",
       " 'kitchen',\n",
       " '.',\n",
       " 'Sandra',\n",
       " 'dropped',\n",
       " 'the',\n",
       " 'football',\n",
       " 'in',\n",
       " 'the',\n",
       " 'garden',\n",
       " '.']"
      ]
     },
     "execution_count": 67,
     "metadata": {},
     "output_type": "execute_result"
    }
   ],
   "source": [
    "# Note the whitespace of the periods\n",
    "my_story = \"John left the kitchen . Sandra dropped the football in the garden .\"\n",
    "my_story.split()"
   ]
  },
  {
   "cell_type": "code",
   "execution_count": 68,
   "metadata": {},
   "outputs": [],
   "source": [
    "my_question = \"Is the football in the garden ?\""
   ]
  },
  {
   "cell_type": "code",
   "execution_count": 69,
   "metadata": {},
   "outputs": [
    {
     "data": {
      "text/plain": [
       "['Is', 'the', 'football', 'in', 'the', 'garden', '?']"
      ]
     },
     "execution_count": 69,
     "metadata": {},
     "output_type": "execute_result"
    }
   ],
   "source": [
    "my_question.split()"
   ]
  },
  {
   "cell_type": "code",
   "execution_count": 70,
   "metadata": {},
   "outputs": [],
   "source": [
    "mydata = [(my_story.split(),my_question.split(),'yes')]"
   ]
  },
  {
   "cell_type": "code",
   "execution_count": 71,
   "metadata": {},
   "outputs": [],
   "source": [
    "my_story,my_ques,my_ans = vectorize_stories(mydata)"
   ]
  },
  {
   "cell_type": "code",
   "execution_count": 72,
   "metadata": {},
   "outputs": [],
   "source": [
    "pred_results = model.predict(([ my_story, my_ques]))"
   ]
  },
  {
   "cell_type": "code",
   "execution_count": 73,
   "metadata": {},
   "outputs": [
    {
     "name": "stdout",
     "output_type": "stream",
     "text": [
      "Predicted answer is:  yes\n",
      "Probability of certainty was:  0.9342868\n"
     ]
    }
   ],
   "source": [
    "#Generate prediction from model\n",
    "val_max = np.argmax(pred_results[0])\n",
    "\n",
    "for key, val in tokenizer.word_index.items():\n",
    "    if val == val_max:\n",
    "        k = key\n",
    "\n",
    "print(\"Predicted answer is: \", k)\n",
    "print(\"Probability of certainty was: \", pred_results[0][val_max])"
   ]
  },
  {
   "cell_type": "markdown",
   "metadata": {},
   "source": [
    "# Great Job!"
   ]
  },
  {
   "cell_type": "code",
   "execution_count": null,
   "metadata": {},
   "outputs": [],
   "source": []
  },
  {
   "cell_type": "code",
   "execution_count": null,
   "metadata": {},
   "outputs": [],
   "source": []
  },
  {
   "cell_type": "code",
   "execution_count": null,
   "metadata": {},
   "outputs": [],
   "source": []
  }
 ],
 "metadata": {
  "kernelspec": {
   "display_name": "Python 3",
   "language": "python",
   "name": "python3"
  },
  "language_info": {
   "codemirror_mode": {
    "name": "ipython",
    "version": 3
   },
   "file_extension": ".py",
   "mimetype": "text/x-python",
   "name": "python",
   "nbconvert_exporter": "python",
   "pygments_lexer": "ipython3",
   "version": "3.8.5"
  },
  "toc": {
   "base_numbering": 1,
   "nav_menu": {},
   "number_sections": true,
   "sideBar": true,
   "skip_h1_title": false,
   "title_cell": "Table of Contents",
   "title_sidebar": "Contents",
   "toc_cell": false,
   "toc_position": {},
   "toc_section_display": true,
   "toc_window_display": true
  }
 },
 "nbformat": 4,
 "nbformat_minor": 2
}
